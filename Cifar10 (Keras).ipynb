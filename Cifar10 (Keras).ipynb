{
 "cells": [
  {
   "cell_type": "code",
   "execution_count": 2,
   "metadata": {},
   "outputs": [],
   "source": [
    "import keras\n",
    "from keras.models import Sequential\n",
    "from keras.layers import Dense, Activation,Conv2D, MaxPooling2D,Flatten,Dropout\n",
    "from sklearn import datasets\n",
    "from keras import optimizers"
   ]
  },
  {
   "cell_type": "code",
   "execution_count": 3,
   "metadata": {
    "collapsed": true
   },
   "outputs": [],
   "source": [
    "import cifar10"
   ]
  },
  {
   "cell_type": "code",
   "execution_count": 4,
   "metadata": {},
   "outputs": [
    {
     "name": "stdout",
     "output_type": "stream",
     "text": [
      "Loading data: data/CIFAR-10/cifar-10-batches-py/data_batch_1\n",
      "Loading data: data/CIFAR-10/cifar-10-batches-py/data_batch_2\n",
      "Loading data: data/CIFAR-10/cifar-10-batches-py/data_batch_3\n",
      "Loading data: data/CIFAR-10/cifar-10-batches-py/data_batch_4\n",
      "Loading data: data/CIFAR-10/cifar-10-batches-py/data_batch_5\n"
     ]
    },
    {
     "data": {
      "text/plain": [
       "(50000, 32, 32, 3)"
      ]
     },
     "execution_count": 4,
     "metadata": {},
     "output_type": "execute_result"
    }
   ],
   "source": [
    "x_train,y_train,train_labels = cifar10.load_training_data()\n",
    "x_train.shape"
   ]
  },
  {
   "cell_type": "code",
   "execution_count": 6,
   "metadata": {},
   "outputs": [
    {
     "name": "stdout",
     "output_type": "stream",
     "text": [
      "Loading data: data/CIFAR-10/cifar-10-batches-py/test_batch\n"
     ]
    },
    {
     "data": {
      "text/plain": [
       "(10000, 32, 32, 3)"
      ]
     },
     "execution_count": 6,
     "metadata": {},
     "output_type": "execute_result"
    }
   ],
   "source": [
    "x_test,y_test,test_labels = cifar10.load_test_data()\n",
    "x_test.shape"
   ]
  },
  {
   "cell_type": "code",
   "execution_count": 7,
   "metadata": {
    "collapsed": true
   },
   "outputs": [],
   "source": [
    "input_width = 32\n",
    "input_height = 32\n",
    "input_channels = 3\n",
    "input_shape = (input_height,input_width,3)\n",
    "num_classes = 10"
   ]
  },
  {
   "cell_type": "code",
   "execution_count": 8,
   "metadata": {
    "collapsed": true
   },
   "outputs": [],
   "source": [
    "model2 = Sequential()"
   ]
  },
  {
   "cell_type": "code",
   "execution_count": 9,
   "metadata": {
    "collapsed": true
   },
   "outputs": [],
   "source": [
    "model2.add(Conv2D(32,kernel_size=(3,3),activation='relu',input_shape=input_shape,use_bias=True))\n",
    "model2.add(MaxPooling2D(pool_size=(2,2)))\n",
    "model2.add(Dropout(.2))\n",
    "model2.add(Conv2D(64,kernel_size=(3,3),padding=\"SAME\",activation='relu',use_bias=True))\n",
    "model2.add(MaxPooling2D(pool_size=(2,2)))\n",
    "model2.add(Dropout(.2))\n",
    "model2.add(Conv2D(128,kernel_size=(3,3),padding=\"SAME\",activation='relu',use_bias=True))\n",
    "model2.add(MaxPooling2D(pool_size=(2,2)))\n",
    "model2.add(Dropout(.2))\n",
    "model2.add(Flatten())\n",
    "model2.add(Dense(4096,activation='relu'))\n",
    "model2.add(Dropout(.2))\n",
    "model2.add(Dense(512,activation='relu'))\n",
    "model2.add(Dropout(.2))\n",
    "model2.add(Dense(10,activation=\"softmax\"))"
   ]
  },
  {
   "cell_type": "code",
   "execution_count": 10,
   "metadata": {
    "collapsed": true
   },
   "outputs": [],
   "source": [
    "adam = optimizers.Adamax(lr=.02)\n",
    "model2.compile(optimizer='adam', loss='categorical_crossentropy', metrics=['accuracy'])"
   ]
  },
  {
   "cell_type": "code",
   "execution_count": 11,
   "metadata": {},
   "outputs": [
    {
     "name": "stdout",
     "output_type": "stream",
     "text": [
      "_________________________________________________________________\n",
      "Layer (type)                 Output Shape              Param #   \n",
      "=================================================================\n",
      "conv2d_1 (Conv2D)            (None, 30, 30, 32)        896       \n",
      "_________________________________________________________________\n",
      "max_pooling2d_1 (MaxPooling2 (None, 15, 15, 32)        0         \n",
      "_________________________________________________________________\n",
      "dropout_1 (Dropout)          (None, 15, 15, 32)        0         \n",
      "_________________________________________________________________\n",
      "conv2d_2 (Conv2D)            (None, 15, 15, 64)        18496     \n",
      "_________________________________________________________________\n",
      "max_pooling2d_2 (MaxPooling2 (None, 7, 7, 64)          0         \n",
      "_________________________________________________________________\n",
      "dropout_2 (Dropout)          (None, 7, 7, 64)          0         \n",
      "_________________________________________________________________\n",
      "conv2d_3 (Conv2D)            (None, 7, 7, 128)         73856     \n",
      "_________________________________________________________________\n",
      "max_pooling2d_3 (MaxPooling2 (None, 3, 3, 128)         0         \n",
      "_________________________________________________________________\n",
      "dropout_3 (Dropout)          (None, 3, 3, 128)         0         \n",
      "_________________________________________________________________\n",
      "flatten_1 (Flatten)          (None, 1152)              0         \n",
      "_________________________________________________________________\n",
      "dense_1 (Dense)              (None, 4096)              4722688   \n",
      "_________________________________________________________________\n",
      "dropout_4 (Dropout)          (None, 4096)              0         \n",
      "_________________________________________________________________\n",
      "dense_2 (Dense)              (None, 512)               2097664   \n",
      "_________________________________________________________________\n",
      "dropout_5 (Dropout)          (None, 512)               0         \n",
      "_________________________________________________________________\n",
      "dense_3 (Dense)              (None, 10)                5130      \n",
      "=================================================================\n",
      "Total params: 6,918,730\n",
      "Trainable params: 6,918,730\n",
      "Non-trainable params: 0\n",
      "_________________________________________________________________\n"
     ]
    }
   ],
   "source": [
    "model2.summary()"
   ]
  },
  {
   "cell_type": "code",
   "execution_count": 12,
   "metadata": {},
   "outputs": [
    {
     "name": "stdout",
     "output_type": "stream",
     "text": [
      "Epoch 1/25\n",
      "50000/50000 [==============================] - 40s 796us/step - loss: 1.8695 - acc: 0.3004\n",
      "Epoch 2/25\n",
      "50000/50000 [==============================] - 33s 661us/step - loss: 1.4373 - acc: 0.4727\n",
      "Epoch 3/25\n",
      "50000/50000 [==============================] - 33s 661us/step - loss: 1.2496 - acc: 0.5524\n",
      "Epoch 4/25\n",
      "50000/50000 [==============================] - 33s 660us/step - loss: 1.1167 - acc: 0.6043\n",
      "Epoch 5/25\n",
      "50000/50000 [==============================] - 33s 661us/step - loss: 1.0209 - acc: 0.6355\n",
      "Epoch 6/25\n",
      "50000/50000 [==============================] - 33s 661us/step - loss: 0.9455 - acc: 0.6663\n",
      "Epoch 7/25\n",
      "50000/50000 [==============================] - 33s 658us/step - loss: 0.8682 - acc: 0.6949\n",
      "Epoch 8/25\n",
      "50000/50000 [==============================] - 33s 659us/step - loss: 0.8142 - acc: 0.7144\n",
      "Epoch 9/25\n",
      "50000/50000 [==============================] - 33s 658us/step - loss: 0.7545 - acc: 0.7337\n",
      "Epoch 10/25\n",
      "50000/50000 [==============================] - 33s 661us/step - loss: 0.7158 - acc: 0.7473\n",
      "Epoch 11/25\n",
      "50000/50000 [==============================] - 33s 661us/step - loss: 0.6732 - acc: 0.7629\n",
      "Epoch 12/25\n",
      "50000/50000 [==============================] - 33s 662us/step - loss: 0.6399 - acc: 0.7735\n",
      "Epoch 13/25\n",
      "50000/50000 [==============================] - 33s 662us/step - loss: 0.5898 - acc: 0.7937\n",
      "Epoch 14/25\n",
      "50000/50000 [==============================] - 33s 662us/step - loss: 0.5480 - acc: 0.8066\n",
      "Epoch 15/25\n",
      "50000/50000 [==============================] - 33s 662us/step - loss: 0.5163 - acc: 0.8179\n",
      "Epoch 16/25\n",
      "50000/50000 [==============================] - 33s 661us/step - loss: 0.4776 - acc: 0.8314\n",
      "Epoch 17/25\n",
      "50000/50000 [==============================] - 33s 660us/step - loss: 0.4429 - acc: 0.8429\n",
      "Epoch 18/25\n",
      "50000/50000 [==============================] - 33s 662us/step - loss: 0.4140 - acc: 0.8534\n",
      "Epoch 19/25\n",
      "50000/50000 [==============================] - 33s 661us/step - loss: 0.3837 - acc: 0.8658\n",
      "Epoch 20/25\n",
      "50000/50000 [==============================] - 33s 661us/step - loss: 0.3542 - acc: 0.8746\n",
      "Epoch 21/25\n",
      "50000/50000 [==============================] - 33s 663us/step - loss: 0.3303 - acc: 0.8824\n",
      "Epoch 22/25\n",
      "50000/50000 [==============================] - 33s 660us/step - loss: 0.3011 - acc: 0.8940\n",
      "Epoch 23/25\n",
      "50000/50000 [==============================] - 33s 661us/step - loss: 0.2808 - acc: 0.9004\n",
      "Epoch 24/25\n",
      "50000/50000 [==============================] - 33s 662us/step - loss: 0.2615 - acc: 0.9069\n",
      "Epoch 25/25\n",
      "50000/50000 [==============================] - 33s 661us/step - loss: 0.2365 - acc: 0.9169\n"
     ]
    },
    {
     "data": {
      "text/plain": [
       "<keras.callbacks.History at 0x26df8dc5630>"
      ]
     },
     "execution_count": 12,
     "metadata": {},
     "output_type": "execute_result"
    }
   ],
   "source": [
    "model2.fit(x_train,keras.utils.to_categorical(y_train, num_classes),batch_size=500,epochs=25)"
   ]
  },
  {
   "cell_type": "code",
   "execution_count": 13,
   "metadata": {},
   "outputs": [
    {
     "name": "stdout",
     "output_type": "stream",
     "text": [
      "10000/10000 [==============================] - 3s 346us/step\n"
     ]
    },
    {
     "data": {
      "text/plain": [
       "[0.7310058184862137, 0.78]"
      ]
     },
     "execution_count": 13,
     "metadata": {},
     "output_type": "execute_result"
    }
   ],
   "source": [
    "score = model2.evaluate(x_test, keras.utils.to_categorical(y_test, num_classes))\n",
    "score"
   ]
  }
 ],
 "metadata": {
  "kernelspec": {
   "display_name": "Python 3",
   "language": "python",
   "name": "python3"
  },
  "language_info": {
   "codemirror_mode": {
    "name": "ipython",
    "version": 3
   },
   "file_extension": ".py",
   "mimetype": "text/x-python",
   "name": "python",
   "nbconvert_exporter": "python",
   "pygments_lexer": "ipython3",
   "version": "3.6.3"
  }
 },
 "nbformat": 4,
 "nbformat_minor": 2
}
